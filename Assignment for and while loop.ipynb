{
 "cells": [
  {
   "cell_type": "markdown",
   "id": "f0327767-7c83-4058-8f27-73124802cbcd",
   "metadata": {},
   "source": [
    "## ASSIGNMENT NO - 01"
   ]
  },
  {
   "cell_type": "markdown",
   "id": "ebab6994-08e2-451c-ad41-27753485868c",
   "metadata": {},
   "source": [
    "Q.1.Explain with an example each when to use a for loop and a while loop."
   ]
  },
  {
   "cell_type": "markdown",
   "id": "310e196c-5f7e-425b-8596-51ef34624d95",
   "metadata": {},
   "source": [
    "for loop"
   ]
  },
  {
   "cell_type": "markdown",
   "id": "cb5210a2-7856-40c2-b727-3496a4947c1b",
   "metadata": {},
   "source": [
    "A for loop is typically used when you know the number of times you want to iterate over a block of code.\n",
    "A for loop is structured in a way that it iterates over a range of values, \n",
    "and it executes the block of code once for each value in the range\n"
   ]
  },
  {
   "cell_type": "markdown",
   "id": "a9b4d44e-31f5-4989-a348-87b0d1175da3",
   "metadata": {},
   "source": [
    "Example For For Loop"
   ]
  },
  {
   "cell_type": "markdown",
   "id": "085dd952-e189-4f58-9964-9ac3f2a8b76f",
   "metadata": {},
   "source": [
    "Write a Python program that calculates the sum of all numbers from 1 to 100."
   ]
  },
  {
   "cell_type": "code",
   "execution_count": 2,
   "id": "692a45ee-cf32-468b-baf3-6078ad49d596",
   "metadata": {},
   "outputs": [
    {
     "name": "stdout",
     "output_type": "stream",
     "text": [
      "5050\n"
     ]
    }
   ],
   "source": [
    "sum = 0\n",
    "for i in range(1, 101):\n",
    "    sum += i\n",
    "print(sum)\n"
   ]
  },
  {
   "cell_type": "markdown",
   "id": "cd7bd6a0-4dd3-42a5-8673-d18c04b173b8",
   "metadata": {},
   "source": [
    "While Loop"
   ]
  },
  {
   "cell_type": "markdown",
   "id": "7d589862-d290-4f23-abe8-8de5dcbea612",
   "metadata": {},
   "source": [
    " while loop is typically used when you don't know the number of times you want to iterate over a block of code. While loops continue to execute as long as a certain condition is true. "
   ]
  },
  {
   "cell_type": "markdown",
   "id": "254795f1-bafa-4db0-aa7d-24634c8056d6",
   "metadata": {},
   "source": [
    "Example For While Loop"
   ]
  },
  {
   "cell_type": "markdown",
   "id": "f26a15cc-094c-4106-951f-e39e0202cb9e",
   "metadata": {},
   "source": [
    "Write a Python program that calculates the sum of all numbers from 1 to 100."
   ]
  },
  {
   "cell_type": "code",
   "execution_count": 3,
   "id": "bc09cbb5-dc50-4dd1-9344-38bf7185c12f",
   "metadata": {},
   "outputs": [
    {
     "name": "stdout",
     "output_type": "stream",
     "text": [
      "5050\n"
     ]
    }
   ],
   "source": [
    "sum = 0\n",
    "i = 1\n",
    "while i <= 100:\n",
    "    sum += i\n",
    "    i += 1\n",
    "print(sum)\n"
   ]
  },
  {
   "cell_type": "markdown",
   "id": "a64b582f-49ab-4a82-a19b-9094ef4549d6",
   "metadata": {},
   "source": [
    "Q.2 Write a python program to print the sum and product of the first 10 natural numbers using for\n",
    "and while loop."
   ]
  },
  {
   "cell_type": "markdown",
   "id": "1cb32358-2a44-445e-acf2-4d05da430bd2",
   "metadata": {},
   "source": [
    "python program to print the sum and product of the first 10 natural numbers using for loop."
   ]
  },
  {
   "cell_type": "code",
   "execution_count": 4,
   "id": "2d5d6219-703b-4dfd-870d-9f4802e7ee4e",
   "metadata": {},
   "outputs": [
    {
     "name": "stdout",
     "output_type": "stream",
     "text": [
      "Sum of first 10 natural numbers: 55\n",
      "Product of first 10 natural numbers: 3628800\n"
     ]
    }
   ],
   "source": [
    "sum = 0\n",
    "product = 1\n",
    "\n",
    "for i in range(1, 11):\n",
    "    sum += i\n",
    "    product *= i\n",
    "\n",
    "print(\"Sum of first 10 natural numbers:\", sum)\n",
    "print(\"Product of first 10 natural numbers:\", product)\n"
   ]
  },
  {
   "cell_type": "markdown",
   "id": "96128244-f7d7-4443-8f3e-42b1963dd017",
   "metadata": {},
   "source": [
    "python program to print the sum and product of the first 10 natural numbers using while loop."
   ]
  },
  {
   "cell_type": "code",
   "execution_count": 5,
   "id": "e7065bac-ff13-4e7b-9e1d-c77ce68646d9",
   "metadata": {},
   "outputs": [
    {
     "name": "stdout",
     "output_type": "stream",
     "text": [
      "Sum of first 10 natural numbers: 55\n",
      "Product of first 10 natural numbers: 3628800\n"
     ]
    }
   ],
   "source": [
    "sum = 0\n",
    "product = 1\n",
    "i = 1\n",
    "\n",
    "while i <= 10:\n",
    "    sum += i\n",
    "    product *= i\n",
    "    i += 1\n",
    "\n",
    "print(\"Sum of first 10 natural numbers:\", sum)\n",
    "print(\"Product of first 10 natural numbers:\", product)\n"
   ]
  },
  {
   "cell_type": "code",
   "execution_count": null,
   "id": "936ffda1-dc84-4c90-8306-436bd3b61169",
   "metadata": {},
   "outputs": [],
   "source": []
  },
  {
   "cell_type": "markdown",
   "id": "ff274623-3018-4ef3-8128-75e262696e72",
   "metadata": {},
   "source": [
    "Q.3 Create a python program to compute the electricity bill for a household.The per-unit charges in rupees are as follows: For the first 100 units, the user will be charged Rs. 4.5 per\n",
    "unit, for the next 100 units, the user will be charged Rs. 6 per unit, and for the next 100 units, the user will\n",
    "be charged Rs. 10 per unit, After 300 units and above the user will be charged Rs. 20 per unit.\n",
    "You are required to take the units of electricity consumed in a month from the user as input.\n",
    "Your program must pass this test case: when the unit of electricity consumed by the user in a month is\n",
    "310, the total electricity bill should be 2250."
   ]
  },
  {
   "cell_type": "code",
   "execution_count": 8,
   "id": "9e886c9d-f681-4679-99f6-ae23c3079361",
   "metadata": {},
   "outputs": [
    {
     "name": "stdin",
     "output_type": "stream",
     "text": [
      "Enter units of electricity consumed:  310\n"
     ]
    },
    {
     "name": "stdout",
     "output_type": "stream",
     "text": [
      "Total Electricity bill: Rs. 2250.0\n"
     ]
    }
   ],
   "source": [
    "list of numbers from 1 to 100. Use for loop and while loopunits = int(input(\"Enter units of electricity consumed: \"))\n",
    "\n",
    "if units <= 100:\n",
    "    bill = units * 4.5\n",
    "elif units <= 200:\n",
    "    bill = 100 * 4.5 + (units - 100) * 6\n",
    "elif units <= 300:\n",
    "    bill = 100 * 4.5 + 100 * 6 + (units - 200) * 10\n",
    "else:\n",
    "    bill = 100 * 4.5 + 100 * 6 + 100 * 10 + (units - 300) * 20\n",
    "\n",
    "print(\"Total Electricity bill: Rs.\", bill)\n"
   ]
  },
  {
   "cell_type": "markdown",
   "id": "170845fe-509f-40fd-b030-3cfbbf367652",
   "metadata": {},
   "source": [
    "Q4. Create a list of numbers from 1 to 100. Use for loop and while loop to calculate the cube of each\n",
    "number and if the cube of that number is divisible by 4 or 5 then append that number in a list and print\n",
    "that list."
   ]
  },
  {
   "cell_type": "markdown",
   "id": "91f397ae-6faf-48a9-b9fa-eb33b0dd5b15",
   "metadata": {},
   "source": [
    "list of numbers from 1 to 100 by using for loop "
   ]
  },
  {
   "cell_type": "code",
   "execution_count": 10,
   "id": "f00dd491-5979-409e-93bb-4f876d9485be",
   "metadata": {},
   "outputs": [
    {
     "name": "stdout",
     "output_type": "stream",
     "text": [
      "[2, 4, 5, 6, 8, 10, 12, 14, 15, 16, 18, 20, 22, 24, 25, 26, 28, 30, 32, 34, 35, 36, 38, 40, 42, 44, 45, 46, 48, 50, 52, 54, 55, 56, 58, 60, 62, 64, 65, 66, 68, 70, 72, 74, 75, 76, 78, 80, 82, 84, 85, 86, 88, 90, 92, 94, 95, 96, 98, 100]\n"
     ]
    }
   ],
   "source": [
    "cubes = []\n",
    "for num in range(1, 101):\n",
    "    cube = num ** 3\n",
    "    if cube % 4 == 0 or cube % 5 == 0:\n",
    "        cubes.append(num)\n",
    "print(cubes)\n"
   ]
  },
  {
   "cell_type": "markdown",
   "id": "ca578ed6-f086-4d1e-a5e2-c73d46d36f7d",
   "metadata": {},
   "source": [
    "list of numbers from 1 to 100 using while loop"
   ]
  },
  {
   "cell_type": "code",
   "execution_count": 11,
   "id": "46f6acd1-3b30-4d02-aa53-a61492e9ef56",
   "metadata": {},
   "outputs": [
    {
     "name": "stdout",
     "output_type": "stream",
     "text": [
      "[2, 4, 5, 6, 8, 10, 12, 14, 15, 16, 18, 20, 22, 24, 25, 26, 28, 30, 32, 34, 35, 36, 38, 40, 42, 44, 45, 46, 48, 50, 52, 54, 55, 56, 58, 60, 62, 64, 65, 66, 68, 70, 72, 74, 75, 76, 78, 80, 82, 84, 85, 86, 88, 90, 92, 94, 95, 96, 98, 100]\n"
     ]
    }
   ],
   "source": [
    "cubes = []\n",
    "num = 1\n",
    "while num <= 100:\n",
    "    cube = num ** 3\n",
    "    if cube % 4 == 0 or cube % 5 == 0:\n",
    "        cubes.append(num)\n",
    "    num += 1\n",
    "print(cubes)\n"
   ]
  },
  {
   "cell_type": "markdown",
   "id": "eda342e1-5144-4ec5-b218-50303dea350c",
   "metadata": {},
   "source": [
    "Q5. Write a program to filter count vowels in the below-given string.\n",
    "string = \"I want to become a data scientist\""
   ]
  },
  {
   "cell_type": "code",
   "execution_count": 17,
   "id": "4539b04d-f4bf-47a8-b22a-2c1ac1e8b0d6",
   "metadata": {},
   "outputs": [
    {
     "name": "stdout",
     "output_type": "stream",
     "text": [
      "Number of vowels in the string: 12\n"
     ]
    }
   ],
   "source": [
    "string = \"I want to become a data scientist\"\n",
    "vowels = 'aeiouAEIOU'\n",
    "count = 0\n",
    "\n",
    "for i in string:\n",
    "    if i in vowels:\n",
    "        count += 1\n",
    "\n",
    "print(f\"Number of vowels in the string: {count}\")\n"
   ]
  },
  {
   "cell_type": "code",
   "execution_count": null,
   "id": "b86678f5-a9f9-4550-b1f5-eb09060f2183",
   "metadata": {},
   "outputs": [],
   "source": []
  }
 ],
 "metadata": {
  "kernelspec": {
   "display_name": "Python 3 (ipykernel)",
   "language": "python",
   "name": "python3"
  },
  "language_info": {
   "codemirror_mode": {
    "name": "ipython",
    "version": 3
   },
   "file_extension": ".py",
   "mimetype": "text/x-python",
   "name": "python",
   "nbconvert_exporter": "python",
   "pygments_lexer": "ipython3",
   "version": "3.10.8"
  }
 },
 "nbformat": 4,
 "nbformat_minor": 5
}
